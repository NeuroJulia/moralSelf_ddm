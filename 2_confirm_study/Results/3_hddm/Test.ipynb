{
 "cells": [
  {
   "cell_type": "code",
   "execution_count": 1,
   "metadata": {},
   "outputs": [
    {
     "name": "stdout",
     "output_type": "stream",
     "text": [
      "C:\\ProgramData\\Miniconda3\\envs\\py27\\python.exe\n"
     ]
    }
   ],
   "source": [
    "import sys\n",
    "print(sys.executable)"
   ]
  },
  {
   "cell_type": "code",
   "execution_count": 4,
   "metadata": {},
   "outputs": [
    {
     "name": "stderr",
     "output_type": "stream",
     "text": [
      "C:\\ProgramData\\Miniconda3\\envs\\py27\\lib\\site-packages\\IPython\\parallel.py:13: ShimWarning: The `IPython.parallel` package has been deprecated since IPython 4.0. You should import from ipyparallel instead.\n",
      "  \"You should import from ipyparallel instead.\", ShimWarning)\n"
     ]
    }
   ],
   "source": [
    "%matplotlib inline\n",
    "\n",
    "# Preparation\n",
    "import os, hddm, time, csv\n",
    "import datetime\n",
    "\n",
    "# import the toolbox\n",
    "import pandas as pd\n",
    "import matplotlib.pyplot as plt\n",
    "from datetime import date\n",
    "\n",
    "# set the color of plots\n",
    "from cycler import cycler\n",
    "plt.rcParams['axes.prop_cycle'] = cycler(color='bgrcmykw')"
   ]
  },
  {
   "cell_type": "code",
   "execution_count": 3,
   "metadata": {},
   "outputs": [],
   "source": [
    "# load data from cateogriztion based on moral valence\n",
    "dat_M_match = hddm.load_csv('MS_match_hddm_stim.csv')"
   ]
  },
  {
   "cell_type": "code",
   "execution_count": 2,
   "metadata": {},
   "outputs": [],
   "source": [
    "nsample = 10000     # number of sampling\n",
    "nburn   = 1000      # number of burn\n",
    "\n",
    "# dateToday = str(date.today())  # replace the code below if you prefer using the actual date\n",
    "dateToday = 'test' # using final in the saved file name\n",
    "#dbname = \"M_match_vz_s_\" + dateToday"
   ]
  },
  {
   "cell_type": "code",
   "execution_count": 5,
   "metadata": {},
   "outputs": [
    {
     "name": "stdout",
     "output_type": "stream",
     "text": [
      " [-----------------100%-----------------] 10000 of 10000 complete in 5664.7 secRunning M1 used: 5677.771000 seconds\n",
      "M_match_vtz_s DIC: 6998.351379\n"
     ]
    }
   ],
   "source": [
    "start_time = time.time()  # the start time of the processing\n",
    " \n",
    "import warnings           # suppress the warnings\n",
    "warnings.simplefilter('ignore')\n",
    "\n",
    "dbname = \"M_match_vz_s_\" + dateToday\n",
    "M_match_vtz_s = hddm.HDDMStimCoding(dat_M_match, \n",
    "                                    include='z', \n",
    "                                    stim_col='stim', \n",
    "                                    depends_on={'v':['match']},\n",
    "                                    split_param='v', \n",
    "                                    drift_criterion=False)\n",
    "\n",
    "M_match_vtz_s.find_starting_values()\n",
    "M_match_vtz_s.sample(nsample, burn=nburn, dbname=dbname+ '.db', db='pickle')\n",
    "   \n",
    "# save the model\n",
    "M_match_vtz_s.save(dbname)\n",
    "\n",
    "# M_match_vtz_s = hddm.load(dbname) # if you already saved the model, you can load it with this code.\n",
    "\n",
    "## print the time used for modelling\n",
    "m1_time = time.time() # the time when the script runs to here\n",
    "\n",
    "print(\"Running M1 used: %f seconds\" % (m1_time - start_time))\n",
    "\n",
    "## print DIC\n",
    "print(\"M_match_vtz_s DIC: %f\" % M_match_vtz_s.dic)  #"
   ]
  }
 ],
 "metadata": {
  "kernelspec": {
   "display_name": "Python [conda env:py27]",
   "language": "python",
   "name": "conda-env-py27-py"
  },
  "language_info": {
   "codemirror_mode": {
    "name": "ipython",
    "version": 2
   },
   "file_extension": ".py",
   "mimetype": "text/x-python",
   "name": "python",
   "nbconvert_exporter": "python",
   "pygments_lexer": "ipython2",
   "version": "2.7.16"
  }
 },
 "nbformat": 4,
 "nbformat_minor": 2
}
